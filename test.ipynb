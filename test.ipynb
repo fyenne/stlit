{
 "cells": [
  {
   "cell_type": "code",
   "execution_count": 1,
   "metadata": {},
   "outputs": [],
   "source": [
    "# from datetime import datetime\n",
    "# import re\n",
    "# import smtplib\n",
    "# from email.mime.multipart import MIMEMultipart \n",
    "\n",
    "\n",
    "# def sendEmailwithFile(account, server,receivers):\n",
    "#     \"\"\"\n",
    "#     对每一行pd df_row 的循环. \n",
    "#     \"\"\"\n",
    "#     text = '''<p style=\"font-family:等线;font-size:10.5pt\">Dear \n",
    "#         <mark><b></b></mark> \n",
    "#                 '''\n",
    "\n",
    "#     subject = 'RE地产信息采集' \n",
    "    \n",
    "#     msg = MIMEMultipart()\n",
    "#     msg['Subject'] = subject\n",
    "#     msg['From'] = account\n",
    "#     receivers = receivers\n",
    "#     msg['TO'] = receivers\n",
    "#     msg['Cc'] = ''\n",
    "#     text = msg.as_string()\n",
    "#     server.sendmail(account, receivers, text)\n",
    "#     # print('success')\n",
    "#     # server.quit()\n",
    "#     # time.sleep(2)\n",
    "    \n",
    "# if __name__ == '__main__':\n",
    "#     server = smtplib.SMTP(\"smtp.office365.com\", 587)\n",
    "#     server.starttls()\n",
    "#     server.login('fyenneyenn@hotmail.com', 'NOmoreuse7-') \n",
    "#     print('connecting...')\n",
    "#     sendEmailwithFile('fyenneyenn@hotmail.com', server = server, receivers='fyenne@hotmail.com')\n",
    "#     server.quit()\n",
    "\n"
   ]
  },
  {
   "cell_type": "code",
   "execution_count": 2,
   "metadata": {},
   "outputs": [],
   "source": [
    "import requests"
   ]
  },
  {
   "cell_type": "code",
   "execution_count": 6,
   "metadata": {},
   "outputs": [],
   "source": [
    "# rq = requests.get(\"https://diap.sf-dsc.com/portal/xlsx/dashboard_core.xlsx?v=1.4\",encoding = 'params=')\n",
    "# rq.content"
   ]
  },
  {
   "cell_type": "code",
   "execution_count": 9,
   "metadata": {},
   "outputs": [],
   "source": [
    "\n",
    "# # Contents of ~/my_app/streamlit_app.py\n",
    "\n",
    "# def main_page():\n",
    "#     st.markdown(\"# Main page 🎈\")\n",
    "#     st.sidebar.markdown(\"# Main page 🎈\")\n",
    "\n",
    "# def page2():\n",
    "#     st.markdown(\"# Page 2 ❄️\")\n",
    "#     st.sidebar.markdown(\"# Page 2 ❄️\")\n",
    "\n",
    "# def page3():\n",
    "#     st.markdown(\"# Page 3 🎉\")\n",
    "#     st.sidebar.markdown(\"# Page 3 🎉\")\n",
    "\n",
    "# page_names_to_funcs = {\n",
    "#     \"Main Page\": main_page,\n",
    "#     \"Page 2\": page2,\n",
    "#     \"Page 3\": page3,\n",
    "# }\n",
    "\n",
    "# selected_page = st.sidebar.selectbox(\"Select a page\", page_names_to_funcs.keys())\n",
    "# page_names_to_funcs[selected_page]()\n"
   ]
  },
  {
   "cell_type": "code",
   "execution_count": 15,
   "metadata": {},
   "outputs": [
    {
     "ename": "ImportError",
     "evalue": "cannot import name 'config' from 'mail_sender' (c:\\Users\\dscshap3808\\Documents\\my_scripts_new\\stlit\\mail_sender.py)",
     "output_type": "error",
     "traceback": [
      "\u001b[1;31m---------------------------------------------------------------------------\u001b[0m",
      "\u001b[1;31mImportError\u001b[0m                               Traceback (most recent call last)",
      "\u001b[1;32mc:\\Users\\dscshap3808\\Documents\\my_scripts_new\\stlit\\test.ipynb Cell 5'\u001b[0m in \u001b[0;36m<cell line: 1>\u001b[1;34m()\u001b[0m\n\u001b[1;32m----> <a href='vscode-notebook-cell:/c%3A/Users/dscshap3808/Documents/my_scripts_new/stlit/test.ipynb#ch0000004?line=0'>1</a>\u001b[0m \u001b[39mfrom\u001b[39;00m \u001b[39mmail_sender\u001b[39;00m \u001b[39mimport\u001b[39;00m config\n",
      "\u001b[1;31mImportError\u001b[0m: cannot import name 'config' from 'mail_sender' (c:\\Users\\dscshap3808\\Documents\\my_scripts_new\\stlit\\mail_sender.py)"
     ]
    }
   ],
   "source": [
    "from mail_sender import config"
   ]
  },
  {
   "cell_type": "code",
   "execution_count": 22,
   "metadata": {},
   "outputs": [
    {
     "data": {
      "text/plain": [
       "'htomails@hotms.com'"
      ]
     },
     "execution_count": 22,
     "metadata": {},
     "output_type": "execute_result"
    }
   ],
   "source": [
    "import re\n",
    "re.findall('\\w+\\@\\w+\\.\\w+', '[htomails@hotms.com]')[0]\n"
   ]
  }
 ],
 "metadata": {
  "kernelspec": {
   "display_name": "Python 3.8.8 ('siming')",
   "language": "python",
   "name": "python3"
  },
  "language_info": {
   "codemirror_mode": {
    "name": "ipython",
    "version": 3
   },
   "file_extension": ".py",
   "mimetype": "text/x-python",
   "name": "python",
   "nbconvert_exporter": "python",
   "pygments_lexer": "ipython3",
   "version": "3.8.8"
  },
  "orig_nbformat": 4,
  "vscode": {
   "interpreter": {
    "hash": "2537094cdaaf8cbca77398104c426db43a9f1c17b808f90867ef58a7e69b756d"
   }
  }
 },
 "nbformat": 4,
 "nbformat_minor": 2
}
