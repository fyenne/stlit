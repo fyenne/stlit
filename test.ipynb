{
 "cells": [
  {
   "cell_type": "code",
   "execution_count": null,
   "metadata": {},
   "outputs": [],
   "source": [
    "# from datetime import datetime\n",
    "# import re\n",
    "# import smtplib\n",
    "# from email.mime.multipart import MIMEMultipart \n",
    "\n",
    "\n",
    "# def sendEmailwithFile(account, server,receivers):\n",
    "#     \"\"\"\n",
    "#     对每一行pd df_row 的循环. \n",
    "#     \"\"\"\n",
    "#     text = '''<p style=\"font-family:等线;font-size:10.5pt\">Dear \n",
    "#         <mark><b></b></mark> \n",
    "#                 '''\n",
    "\n",
    "#     subject = 'RE地产信息采集' \n",
    "    \n",
    "#     msg = MIMEMultipart()\n",
    "#     msg['Subject'] = subject\n",
    "#     msg['From'] = account\n",
    "#     receivers = receivers\n",
    "#     msg['TO'] = receivers\n",
    "#     msg['Cc'] = ''\n",
    "#     text = msg.as_string()\n",
    "#     server.sendmail(account, receivers, text)\n",
    "#     # print('success')\n",
    "#     # server.quit()\n",
    "#     # time.sleep(2)\n",
    "    \n",
    "# if __name__ == '__main__':\n",
    "#     server = smtplib.SMTP(\"smtp.office365.com\", 587)\n",
    "#     server.starttls()\n",
    "#     server.login('fyenneyenn@hotmail.com', 'NOmoreuse7-') \n",
    "#     print('connecting...')\n",
    "#     sendEmailwithFile('fyenneyenn@hotmail.com', server = server, receivers='fyenne@hotmail.com')\n",
    "#     server.quit()\n",
    "import pandas as pd\n",
    "a = pd.read_clipboard(sep = ',', header = None)\n",
    "b = pd.read_clipboard(sep = ',', header = None); "
   ]
  },
  {
   "cell_type": "code",
   "execution_count": null,
   "metadata": {},
   "outputs": [],
   "source": [
    "b[0] = b[0].str.strip()"
   ]
  },
  {
   "cell_type": "code",
   "execution_count": null,
   "metadata": {},
   "outputs": [],
   "source": [
    "# pd.read_clipboard(header = None, sep = '\\n')"
   ]
  },
  {
   "cell_type": "code",
   "execution_count": null,
   "metadata": {},
   "outputs": [],
   "source": [
    "'ou_code' in list(a[0])"
   ]
  },
  {
   "cell_type": "code",
   "execution_count": null,
   "metadata": {},
   "outputs": [],
   "source": [
    "\n",
    "import smtplib\n",
    "from email.mime.multipart import MIMEMultipart \n",
    "server = smtplib.SMTP(\"smtp.office365.com\", 587)\n",
    "server.starttls()\n",
    "server.login('fyenneyenn@hotmail.com', 'NOmoreuse7-') \n",
    "print('connecting...')"
   ]
  },
  {
   "cell_type": "code",
   "execution_count": null,
   "metadata": {},
   "outputs": [],
   "source": [
    "try:\n",
    "    del config\n",
    "except:\n",
    "    pass\n"
   ]
  },
  {
   "cell_type": "code",
   "execution_count": 1,
   "metadata": {},
   "outputs": [],
   "source": [
    "try:\n",
    "    del config\n",
    "except:\n",
    "    pass\n",
    "from mail_sender import config\n",
    "import smtplib\n",
    "from email.mime.multipart import MIMEMultipart\n",
    "from email.mime.text import MIMEText \n",
    "from email.mime.base import MIMEBase\n",
    "from email import encoders"
   ]
  },
  {
   "cell_type": "code",
   "execution_count": 2,
   "metadata": {},
   "outputs": [
    {
     "data": {
      "text/plain": [
       "<smtplib.SMTP at 0x2425836deb0>"
      ]
     },
     "execution_count": 2,
     "metadata": {},
     "output_type": "execute_result"
    }
   ],
   "source": [
    "a = config()\n",
    "a.server"
   ]
  },
  {
   "cell_type": "code",
   "execution_count": 3,
   "metadata": {},
   "outputs": [
    {
     "ename": "AttributeError",
     "evalue": "'str' object has no attribute 'name'",
     "output_type": "error",
     "traceback": [
      "\u001b[1;31m---------------------------------------------------------------------------\u001b[0m",
      "\u001b[1;31mAttributeError\u001b[0m                            Traceback (most recent call last)",
      "\u001b[1;32mc:\\Users\\dscshap3808\\Documents\\my_scripts_new\\stlit\\test.ipynb Cell 9\u001b[0m in \u001b[0;36m<cell line: 6>\u001b[1;34m()\u001b[0m\n\u001b[0;32m      <a href='vscode-notebook-cell:/c%3A/Users/dscshap3808/Documents/my_scripts_new/stlit/test.ipynb#ch0000011?line=3'>4</a>\u001b[0m content \u001b[39m=\u001b[39m \u001b[39m'\u001b[39m\u001b[39m'\u001b[39m\n\u001b[0;32m      <a href='vscode-notebook-cell:/c%3A/Users/dscshap3808/Documents/my_scripts_new/stlit/test.ipynb#ch0000011?line=4'>5</a>\u001b[0m payload \u001b[39m=\u001b[39m \u001b[39mr\u001b[39m\u001b[39m\"\u001b[39m\u001b[39mC:\u001b[39m\u001b[39m\\\u001b[39m\u001b[39mUsers\u001b[39m\u001b[39m\\\u001b[39m\u001b[39mdscshap3808\u001b[39m\u001b[39m\\\u001b[39m\u001b[39mDocuments\u001b[39m\u001b[39m\\\u001b[39m\u001b[39mfapiao\u001b[39m\u001b[39m\\\u001b[39m\u001b[39m202109.pdf\u001b[39m\u001b[39m\"\u001b[39m\n\u001b[1;32m----> <a href='vscode-notebook-cell:/c%3A/Users/dscshap3808/Documents/my_scripts_new/stlit/test.ipynb#ch0000011?line=5'>6</a>\u001b[0m a\u001b[39m.\u001b[39;49msendEmailwithFile(account\u001b[39m=\u001b[39;49ma\u001b[39m.\u001b[39;49mmail, server\u001b[39m=\u001b[39;49mserver, content\u001b[39m=\u001b[39;49mcontent, payload\u001b[39m=\u001b[39;49mpayload, \n\u001b[0;32m      <a href='vscode-notebook-cell:/c%3A/Users/dscshap3808/Documents/my_scripts_new/stlit/test.ipynb#ch0000011?line=6'>7</a>\u001b[0m                     receivers\u001b[39m=\u001b[39;49m\u001b[39m'\u001b[39;49m\u001b[39msiming.yan@sf-dsc.com\u001b[39;49m\u001b[39m'\u001b[39;49m)\n\u001b[0;32m      <a href='vscode-notebook-cell:/c%3A/Users/dscshap3808/Documents/my_scripts_new/stlit/test.ipynb#ch0000011?line=7'>8</a>\u001b[0m server\u001b[39m.\u001b[39mquit()\n",
      "File \u001b[1;32mc:\\Users\\dscshap3808\\Documents\\my_scripts_new\\stlit\\mail_sender.py:41\u001b[0m, in \u001b[0;36mconfig.sendEmailwithFile\u001b[1;34m(self, account, server, content, payload, receivers)\u001b[0m\n\u001b[0;32m     39\u001b[0m part1\u001b[39m.\u001b[39mset_payload(\u001b[39mopen\u001b[39m(payload, \u001b[39m\"\u001b[39m\u001b[39mrb\u001b[39m\u001b[39m\"\u001b[39m)\u001b[39m.\u001b[39mread())\n\u001b[0;32m     40\u001b[0m encoders\u001b[39m.\u001b[39mencode_base64(part1)\n\u001b[1;32m---> 41\u001b[0m \u001b[39mprint\u001b[39m(re\u001b[39m.\u001b[39mfindall(\u001b[39m'\u001b[39m\u001b[39m\\\u001b[39m\u001b[39m.\u001b[39m\u001b[39m\\\u001b[39m\u001b[39mw+\u001b[39m\u001b[39m'\u001b[39m, payload\u001b[39m.\u001b[39;49mname))\n\u001b[0;32m     42\u001b[0m \u001b[39m# output_name1 =  (payload)\u001b[39;00m\n\u001b[0;32m     43\u001b[0m part1\u001b[39m.\u001b[39madd_header(\u001b[39m'\u001b[39m\u001b[39mContent-Disposition\u001b[39m\u001b[39m'\u001b[39m, \u001b[39m'\u001b[39m\u001b[39mattachment\u001b[39m\u001b[39m'\u001b[39m, filename\u001b[39m=\u001b[39m(\u001b[39m'\u001b[39m\u001b[39mutf-8\u001b[39m\u001b[39m'\u001b[39m, \u001b[39m'\u001b[39m\u001b[39m'\u001b[39m, payload\u001b[39m.\u001b[39mname))\n",
      "\u001b[1;31mAttributeError\u001b[0m: 'str' object has no attribute 'name'"
     ]
    }
   ],
   "source": [
    "server = smtplib.SMTP(\"smtp.office365.com\", 587)\n",
    "server.starttls()\n",
    "server.login(a.mail,a.pw)\n",
    "content = ''\n",
    "payload = r\"C:\\Users\\dscshap3808\\Documents\\fapiao\\202109.pdf\"\n",
    "a.sendEmailwithFile(account=a.mail, server=server, content=content, payload=payload, \n",
    "                    receivers='siming.yan@sf-dsc.com')\n",
    "server.quit()"
   ]
  },
  {
   "cell_type": "code",
   "execution_count": null,
   "metadata": {},
   "outputs": [],
   "source": [
    "\n",
    "# # Contents of ~/my_app/streamlit_app.py\n",
    "\n",
    "# def main_page():\n",
    "#     st.markdown(\"# Main page 🎈\")\n",
    "#     st.sidebar.markdown(\"# Main page 🎈\")\n",
    "\n",
    "# def page2():\n",
    "#     st.markdown(\"# Page 2 ❄️\")\n",
    "#     st.sidebar.markdown(\"# Page 2 ❄️\")\n",
    "\n",
    "# def page3():\n",
    "#     st.markdown(\"# Page 3 🎉\")\n",
    "#     st.sidebar.markdown(\"# Page 3 🎉\")\n",
    "\n",
    "# page_names_to_funcs = {\n",
    "#     \"Main Page\": main_page,\n",
    "#     \"Page 2\": page2,\n",
    "#     \"Page 3\": page3,\n",
    "# }\n",
    "\n",
    "# selected_page = st.sidebar.selectbox(\"Select a page\", page_names_to_funcs.keys())\n",
    "# page_names_to_funcs[selected_page]()\n"
   ]
  }
 ],
 "metadata": {
  "kernelspec": {
   "display_name": "Python 3.8.8 ('siming')",
   "language": "python",
   "name": "python3"
  },
  "language_info": {
   "codemirror_mode": {
    "name": "ipython",
    "version": 3
   },
   "file_extension": ".py",
   "mimetype": "text/x-python",
   "name": "python",
   "nbconvert_exporter": "python",
   "pygments_lexer": "ipython3",
   "version": "3.8.8"
  },
  "orig_nbformat": 4,
  "vscode": {
   "interpreter": {
    "hash": "2537094cdaaf8cbca77398104c426db43a9f1c17b808f90867ef58a7e69b756d"
   }
  }
 },
 "nbformat": 4,
 "nbformat_minor": 2
}
