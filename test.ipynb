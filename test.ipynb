{
 "cells": [
  {
   "cell_type": "code",
   "execution_count": null,
   "metadata": {},
   "outputs": [],
   "source": [
    "# from datetime import datetime\n",
    "# import re\n",
    "# import smtplib\n",
    "# from email.mime.multipart import MIMEMultipart \n",
    "\n",
    "\n",
    "# def sendEmailwithFile(account, server,receivers):\n",
    "#     \"\"\"\n",
    "#     对每一行pd df_row 的循环. \n",
    "#     \"\"\"\n",
    "#     text = '''<p style=\"font-family:等线;font-size:10.5pt\">Dear \n",
    "#         <mark><b></b></mark> \n",
    "#                 '''\n",
    "\n",
    "#     subject = 'RE地产信息采集' \n",
    "    \n",
    "#     msg = MIMEMultipart()\n",
    "#     msg['Subject'] = subject\n",
    "#     msg['From'] = account\n",
    "#     receivers = receivers\n",
    "#     msg['TO'] = receivers\n",
    "#     msg['Cc'] = ''\n",
    "#     text = msg.as_string()\n",
    "#     server.sendmail(account, receivers, text)\n",
    "#     # print('success')\n",
    "#     # server.quit()\n",
    "#     # time.sleep(2)\n",
    "    \n",
    "# if __name__ == '__main__':\n",
    "#     server = smtplib.SMTP(\"smtp.office365.com\", 587)\n",
    "#     server.starttls()\n",
    "#     server.login('fyenneyenn@hotmail.com', 'NOmoreuse7-') \n",
    "#     print('connecting...')\n",
    "#     sendEmailwithFile('fyenneyenn@hotmail.com', server = server, receivers='fyenne@hotmail.com')\n",
    "#     server.quit()\n",
    "import pandas as pd\n",
    "a = pd.read_clipboard(sep = ',', header = None)\n",
    "b = pd.read_clipboard(sep = ',', header = None); "
   ]
  },
  {
   "cell_type": "code",
   "execution_count": null,
   "metadata": {},
   "outputs": [],
   "source": [
    "b[0] = b[0].str.strip()"
   ]
  },
  {
   "cell_type": "code",
   "execution_count": null,
   "metadata": {},
   "outputs": [],
   "source": [
    "# pd.read_clipboard(header = None, sep = '\\n')"
   ]
  },
  {
   "cell_type": "code",
   "execution_count": null,
   "metadata": {},
   "outputs": [],
   "source": [
    "'ou_code' in list(a[0])"
   ]
  },
  {
   "cell_type": "code",
   "execution_count": null,
   "metadata": {},
   "outputs": [],
   "source": [
    "\n",
    "import smtplib\n",
    "from email.mime.multipart import MIMEMultipart \n",
    "server = smtplib.SMTP(\"smtp.office365.com\", 587)\n",
    "server.starttls()\n",
    "server.login('fyenneyenn@hotmail.com', 'NOmoreuse7-') \n",
    "print('connecting...')"
   ]
  },
  {
   "cell_type": "code",
   "execution_count": null,
   "metadata": {},
   "outputs": [],
   "source": [
    "try:\n",
    "    del config\n",
    "except:\n",
    "    pass\n"
   ]
  },
  {
   "cell_type": "code",
   "execution_count": 1,
   "metadata": {},
   "outputs": [],
   "source": [
    "try:\n",
    "    del config\n",
    "except:\n",
    "    pass\n",
    "from mail_sender import config\n",
    "import smtplib\n",
    "from email.mime.multipart import MIMEMultipart\n",
    "from email.mime.text import MIMEText \n",
    "from email.mime.base import MIMEBase\n",
    "from email import encoders"
   ]
  },
  {
   "cell_type": "code",
   "execution_count": 2,
   "metadata": {},
   "outputs": [
    {
     "data": {
      "text/plain": [
       "<smtplib.SMTP at 0x2425836deb0>"
      ]
     },
     "execution_count": 2,
     "metadata": {},
     "output_type": "execute_result"
    }
   ],
   "source": [
    "a = config()\n",
    "a.server"
   ]
  },
  {
   "cell_type": "code",
   "execution_count": 4,
   "metadata": {},
   "outputs": [],
   "source": [
    "def parchecker(str1):\n",
    "    s = []\n",
    "    bal = True\n",
    "    index = 0\n",
    "    while index < len(str1) and bal:\n",
    "        symbol = str1[index]\n",
    "        print(s, symbol, 'aaaaaaaa')\n",
    "        if symbol == \"(\":\n",
    "            s.append(symbol) # -- 只有 ( 入栈\n",
    "        else:\n",
    "            if s == []:\n",
    "                bal = False\n",
    "            else:\n",
    "                s.pop()  # -- 有一个 ) 则pop 一个\n",
    "        index += 1\n",
    "        \n",
    "    if bal and s == []:\n",
    "        return True \n",
    "    else:\n",
    "        return False"
   ]
  },
  {
   "cell_type": "code",
   "execution_count": 16,
   "metadata": {},
   "outputs": [],
   "source": [
    "def parchecker(str1):\n",
    "    s = []\n",
    "    bal = True\n",
    "    index = 0\n",
    "    while index < len(str1) and bal:\n",
    "        symbol = str1[index]        \n",
    "        # ============================================================================ #\n",
    "        #                                      前括号                                   #\n",
    "        # ============================================================================ #\n",
    "        if symbol in \"([{\":\n",
    "            s.append(symbol) # -- 只有 ([{ 入栈\n",
    "        # ============================================================================ #\n",
    "        #                                      后括号                                   #\n",
    "        # ============================================================================ #\n",
    "        else: \n",
    "            if s == []:\n",
    "                bal = False\n",
    "            else:\n",
    "                top = s.pop()  # -- 有一个 \")]}\" 则 pop 一个 ([{\n",
    "                if not matches(top, symbol):\n",
    "                    bal = False\n",
    "        index += 1\n",
    "        # ============================================================================ #\n",
    "        #                                     next                                     #\n",
    "        # ============================================================================ #\n",
    "    if bal and s == []:\n",
    "        return True \n",
    "    else:\n",
    "        return False\n",
    "    \n",
    "def matches(open, close):\n",
    "    opens = \"([{\"\n",
    "    closes = \")]}\"\n",
    "    return opens.index(open) == closes.index(close)\n",
    "\n"
   ]
  },
  {
   "cell_type": "code",
   "execution_count": 18,
   "metadata": {},
   "outputs": [
    {
     "data": {
      "text/plain": [
       "True"
      ]
     },
     "execution_count": 18,
     "metadata": {},
     "output_type": "execute_result"
    }
   ],
   "source": [
    "parchecker(\"((({})))\")"
   ]
  },
  {
   "cell_type": "markdown",
   "metadata": {},
   "source": [
    "#### 中序表达式转换后序, 前序\n",
    "\n",
    "中序表达式： $(1 + 4) * 3 + 10 / 5$\n",
    "\n",
    "前序表达式： $+ * + 1 4 3  / 10 5$\n",
    "\n",
    "后序表达式： $1 4 + 3 *  10 5 / +$"
   ]
  },
  {
   "cell_type": "code",
   "execution_count": 37,
   "metadata": {},
   "outputs": [],
   "source": [
    "message = pd.Series([i.strip() for i in \"asd\\001ijijf\".split('\\001')])"
   ]
  },
  {
   "cell_type": "code",
   "execution_count": 38,
   "metadata": {},
   "outputs": [
    {
     "data": {
      "text/html": [
       "<div>\n",
       "<style scoped>\n",
       "    .dataframe tbody tr th:only-of-type {\n",
       "        vertical-align: middle;\n",
       "    }\n",
       "\n",
       "    .dataframe tbody tr th {\n",
       "        vertical-align: top;\n",
       "    }\n",
       "\n",
       "    .dataframe thead th {\n",
       "        text-align: right;\n",
       "    }\n",
       "</style>\n",
       "<table border=\"1\" class=\"dataframe\">\n",
       "  <thead>\n",
       "    <tr style=\"text-align: right;\">\n",
       "      <th></th>\n",
       "      <th>message</th>\n",
       "    </tr>\n",
       "  </thead>\n",
       "  <tbody>\n",
       "    <tr>\n",
       "      <th>0</th>\n",
       "      <td>asd</td>\n",
       "    </tr>\n",
       "    <tr>\n",
       "      <th>1</th>\n",
       "      <td>ijijf</td>\n",
       "    </tr>\n",
       "  </tbody>\n",
       "</table>\n",
       "</div>"
      ],
      "text/plain": [
       "  message\n",
       "0     asd\n",
       "1   ijijf"
      ]
     },
     "execution_count": 38,
     "metadata": {},
     "output_type": "execute_result"
    }
   ],
   "source": [
    "import pandas as pd\n",
    "pd.DataFrame(\n",
    "            {\n",
    "                'message': message,\n",
    "                \n",
    "            }, \n",
    "            index=range(len(message))).head(20)"
   ]
  },
  {
   "cell_type": "code",
   "execution_count": null,
   "metadata": {},
   "outputs": [],
   "source": []
  }
 ],
 "metadata": {
  "kernelspec": {
   "display_name": "Python 3.8.8 ('siming')",
   "language": "python",
   "name": "python3"
  },
  "language_info": {
   "codemirror_mode": {
    "name": "ipython",
    "version": 3
   },
   "file_extension": ".py",
   "mimetype": "text/x-python",
   "name": "python",
   "nbconvert_exporter": "python",
   "pygments_lexer": "ipython3",
   "version": "3.8.8"
  },
  "orig_nbformat": 4,
  "vscode": {
   "interpreter": {
    "hash": "2537094cdaaf8cbca77398104c426db43a9f1c17b808f90867ef58a7e69b756d"
   }
  }
 },
 "nbformat": 4,
 "nbformat_minor": 2
}
