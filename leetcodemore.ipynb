{
 "cells": [
  {
   "cell_type": "code",
   "execution_count": null,
   "metadata": {},
   "outputs": [],
   "source": [
    "# from datetime import datetime\n",
    "# import re\n",
    "# import smtplib\n",
    "# from email.mime.multipart import MIMEMultipart \n",
    "\n",
    "\n",
    "# def sendEmailwithFile(account, server,receivers):\n",
    "#     \"\"\"\n",
    "#     对每一行pd df_row 的循环. \n",
    "#     \"\"\"\n",
    "#     text = '''<p style=\"font-family:等线;font-size:10.5pt\">Dear \n",
    "#         <mark><b></b></mark> \n",
    "#                 '''\n",
    "\n",
    "#     subject = 'RE地产信息采集' \n",
    "    \n",
    "#     msg = MIMEMultipart()\n",
    "#     msg['Subject'] = subject\n",
    "#     msg['From'] = account\n",
    "#     receivers = receivers\n",
    "#     msg['TO'] = receivers\n",
    "#     msg['Cc'] = ''\n",
    "#     text = msg.as_string()\n",
    "#     server.sendmail(account, receivers, text)\n",
    "#     # print('success')\n",
    "#     # server.quit()\n",
    "#     # time.sleep(2)\n",
    "    \n",
    "# if __name__ == '__main__':\n",
    "#     server = smtplib.SMTP(\"smtp.office365.com\", 587)\n",
    "#     server.starttls()\n",
    "#     server.login('fyenneyenn@hotmail.com', 'NOmoreuse7-') \n",
    "#     print('connecting...')\n",
    "#     sendEmailwithFile('fyenneyenn@hotmail.com', server = server, receivers='fyenne@hotmail.com')\n",
    "#     server.quit()\n",
    "import pandas as pd\n",
    "a = pd.read_clipboard(sep = ',', header = None)\n",
    "b = pd.read_clipboard(sep = ',', header = None); "
   ]
  },
  {
   "cell_type": "code",
   "execution_count": null,
   "metadata": {},
   "outputs": [],
   "source": [
    "b[0] = b[0].str.strip()"
   ]
  },
  {
   "cell_type": "code",
   "execution_count": null,
   "metadata": {},
   "outputs": [],
   "source": [
    "# pd.read_clipboard(header = None, sep = '\\n')"
   ]
  },
  {
   "cell_type": "code",
   "execution_count": null,
   "metadata": {},
   "outputs": [],
   "source": [
    "'ou_code' in list(a[0])"
   ]
  },
  {
   "cell_type": "code",
   "execution_count": null,
   "metadata": {},
   "outputs": [],
   "source": [
    "\n",
    "import smtplib\n",
    "from email.mime.multipart import MIMEMultipart \n",
    "server = smtplib.SMTP(\"smtp.office365.com\", 587)\n",
    "server.starttls()\n",
    "server.login('fyenneyenn@hotmail.com', 'NOmoreuse7-') \n",
    "print('connecting...')"
   ]
  },
  {
   "cell_type": "code",
   "execution_count": null,
   "metadata": {},
   "outputs": [],
   "source": [
    "try:\n",
    "    del config\n",
    "except:\n",
    "    pass\n"
   ]
  },
  {
   "cell_type": "code",
   "execution_count": 1,
   "metadata": {},
   "outputs": [],
   "source": [
    "try:\n",
    "    del config\n",
    "except:\n",
    "    pass\n",
    "from mail_sender import config\n",
    "import smtplib\n",
    "from email.mime.multipart import MIMEMultipart\n",
    "from email.mime.text import MIMEText \n",
    "from email.mime.base import MIMEBase\n",
    "from email import encoders"
   ]
  },
  {
   "cell_type": "code",
   "execution_count": 2,
   "metadata": {},
   "outputs": [
    {
     "data": {
      "text/plain": [
       "<smtplib.SMTP at 0x2425836deb0>"
      ]
     },
     "execution_count": 2,
     "metadata": {},
     "output_type": "execute_result"
    }
   ],
   "source": [
    "a = config()\n",
    "a.server"
   ]
  },
  {
   "cell_type": "code",
   "execution_count": 4,
   "metadata": {},
   "outputs": [],
   "source": [
    "def parchecker(str1):\n",
    "    s = []\n",
    "    bal = True\n",
    "    index = 0\n",
    "    while index < len(str1) and bal:\n",
    "        symbol = str1[index]\n",
    "        print(s, symbol, 'aaaaaaaa')\n",
    "        if symbol == \"(\":\n",
    "            s.append(symbol) # -- 只有 ( 入栈\n",
    "        else:\n",
    "            if s == []:\n",
    "                bal = False\n",
    "            else:\n",
    "                s.pop()  # -- 有一个 ) 则pop 一个\n",
    "        index += 1\n",
    "        \n",
    "    if bal and s == []:\n",
    "        return True \n",
    "    else:\n",
    "        return False"
   ]
  },
  {
   "cell_type": "code",
   "execution_count": 16,
   "metadata": {},
   "outputs": [],
   "source": [
    "def parchecker(str1):\n",
    "    s = []\n",
    "    bal = True\n",
    "    index = 0\n",
    "    while index < len(str1) and bal:\n",
    "        symbol = str1[index]        \n",
    "        # ============================================================================ #\n",
    "        #                                      前括号                                   #\n",
    "        # ============================================================================ #\n",
    "        if symbol in \"([{\":\n",
    "            s.append(symbol) # -- 只有 ([{ 入栈\n",
    "        # ============================================================================ #\n",
    "        #                                      后括号                                   #\n",
    "        # ============================================================================ #\n",
    "        else: \n",
    "            if s == []:\n",
    "                bal = False\n",
    "            else:\n",
    "                top = s.pop()  # -- 有一个 \")]}\" 则 pop 一个 ([{\n",
    "                if not matches(top, symbol):\n",
    "                    bal = False # 因为顺序是固定的, 所以top and pop应该match, 否则返回 unbalanced.\n",
    "        index += 1\n",
    "        # ============================================================================ #\n",
    "        #                                     next                                     #\n",
    "        # ============================================================================ #\n",
    "    if bal and s == []:\n",
    "        return True \n",
    "    else:\n",
    "        return False\n",
    "    \n",
    "def matches(open, close):\n",
    "    opens = \"([{\"\n",
    "    closes = \")]}\"\n",
    "    return opens.index(open) == closes.index(close)\n",
    "\n"
   ]
  },
  {
   "cell_type": "code",
   "execution_count": 18,
   "metadata": {},
   "outputs": [
    {
     "data": {
      "text/plain": [
       "True"
      ]
     },
     "execution_count": 18,
     "metadata": {},
     "output_type": "execute_result"
    }
   ],
   "source": [
    "parchecker(\"((({})))\")"
   ]
  },
  {
   "cell_type": "markdown",
   "metadata": {},
   "source": [
    "#### 中序表达式转换后序, 前序\n",
    "\n",
    "中序表达式： $(1 + 4) * 3 + 10 / 5$\n",
    "\n",
    "前序表达式： $+ * + 1 4 3  / 10 5$\n",
    "\n",
    "后序表达式： $1 4 + 3 *  10 5 / +$"
   ]
  },
  {
   "cell_type": "code",
   "execution_count": 196,
   "metadata": {},
   "outputs": [
    {
     "data": {
      "text/plain": [
       "4"
      ]
     },
     "execution_count": 196,
     "metadata": {},
     "output_type": "execute_result"
    }
   ],
   "source": [
    "import string \n",
    "import time\n",
    "(lambda x: x+2)(2)\n",
    "\n"
   ]
  },
  {
   "cell_type": "code",
   "execution_count": 1,
   "metadata": {},
   "outputs": [],
   "source": [
    "infixexp = '( A + B ) * C + D / E'\n",
    "# 'A B + C * D E / +' \n",
    "# 1. 优先括号.\n",
    "# 2. 优先乘除.\n",
    "# "
   ]
  },
  {
   "cell_type": "code",
   "execution_count": 210,
   "metadata": {},
   "outputs": [],
   "source": [
    "def func_(infixexp):\n",
    "    token_list = infixexp.split()\n",
    "    opstack     = [] #\n",
    "    postfixlist = [] # 输出\n",
    "    prec = {}\n",
    "    prec['*'] = 3\n",
    "    prec['/'] = 3\n",
    "    prec['+'] = 2\n",
    "    prec['-'] = 2\n",
    "    prec['('] = 1\n",
    "\n",
    "    for token in token_list:\n",
    "        \n",
    "        if   token in string.ascii_uppercase: # all letter in upper form.\n",
    "            postfixlist.append(token) # num  group\n",
    "        elif token == '(': \n",
    "            opstack.append(token) # operator group \n",
    "        elif token == ')': \n",
    "            toptoken = opstack.pop() # \n",
    "            while toptoken != '(': # reversed append calculation marks., before meeting the earlier parenthesis.\n",
    "                postfixlist.append(toptoken) # reversed append calculation marks.\n",
    "                toptoken = opstack.pop() # remove parenthesis\n",
    "        else:\n",
    "            while (not opstack == []) and \\\n",
    "                (prec[opstack[-1]] >= prec[token]): # 当前符号比上一个符号等级低或同.\n",
    "                    postfixlist.append(opstack.pop())\n",
    "                \n",
    "            opstack.append(token)\n",
    "\n",
    "    while not opstack == []:\n",
    "        postfixlist.append(opstack.pop())\n",
    "            \n",
    "        print(postfixlist, opstack)\n",
    "        print(\n",
    "            \"\"\"\n",
    "            # ============================================================================ # \n",
    "            # ============================================================================ #\n",
    "            \"\"\"\n",
    "            )\n",
    "        time.sleep(1)\n",
    "        \n",
    "\n",
    "    return \" \".join(postfixlist)"
   ]
  },
  {
   "cell_type": "code",
   "execution_count": 212,
   "metadata": {},
   "outputs": [
    {
     "name": "stdout",
     "output_type": "stream",
     "text": [
      "['A', 'B', '+', 'C', '*', 'D', 'E', '/'] ['+']\n",
      "\n",
      "            # ============================================================================ # \n",
      "            # ============================================================================ #\n",
      "            \n",
      "['A', 'B', '+', 'C', '*', 'D', 'E', '/', '+'] []\n",
      "\n",
      "            # ============================================================================ # \n",
      "            # ============================================================================ #\n",
      "            \n"
     ]
    },
    {
     "data": {
      "text/plain": [
       "'A B + C * D E / +'"
      ]
     },
     "execution_count": 212,
     "metadata": {},
     "output_type": "execute_result"
    }
   ],
   "source": [
    "func_(infixexp)"
   ]
  },
  {
   "cell_type": "code",
   "execution_count": 175,
   "metadata": {},
   "outputs": [
    {
     "data": {
      "text/html": [
       "<div>\n",
       "<style scoped>\n",
       "    .dataframe tbody tr th:only-of-type {\n",
       "        vertical-align: middle;\n",
       "    }\n",
       "\n",
       "    .dataframe tbody tr th {\n",
       "        vertical-align: top;\n",
       "    }\n",
       "\n",
       "    .dataframe thead th {\n",
       "        text-align: right;\n",
       "    }\n",
       "</style>\n",
       "<table border=\"1\" class=\"dataframe\">\n",
       "  <thead>\n",
       "    <tr style=\"text-align: right;\">\n",
       "      <th></th>\n",
       "      <th>message</th>\n",
       "    </tr>\n",
       "  </thead>\n",
       "  <tbody>\n",
       "    <tr>\n",
       "      <th>0</th>\n",
       "      <td>asd</td>\n",
       "    </tr>\n",
       "    <tr>\n",
       "      <th>1</th>\n",
       "      <td>ijijf</td>\n",
       "    </tr>\n",
       "  </tbody>\n",
       "</table>\n",
       "</div>"
      ],
      "text/plain": [
       "  message\n",
       "0     asd\n",
       "1   ijijf"
      ]
     },
     "execution_count": 175,
     "metadata": {},
     "output_type": "execute_result"
    }
   ],
   "source": [
    "message = pd.Series([i.strip() for i in \"asd\\001ijijf\".split('\\001')])\n",
    "import pandas as pd\n",
    "pd.DataFrame(\n",
    "            {\n",
    "                'message': message,\n",
    "                \n",
    "            }, \n",
    "            index=range(len(message))).head(20)"
   ]
  },
  {
   "cell_type": "code",
   "execution_count": 51,
   "metadata": {},
   "outputs": [],
   "source": [
    "import requests  \n",
    "from bs4 import BeautifulSoup\n",
    "# fetch the page to train\n",
    "einstein_url = 'http://quotes.toscrape.com/author/Albert-Einstein/'\n",
    "resp = requests.get(einstein_url, timeout = 5)\n",
    "# resp\n",
    "assert resp.status_code == 200"
   ]
  },
  {
   "cell_type": "code",
   "execution_count": 54,
   "metadata": {},
   "outputs": [],
   "source": [
    "soup = BeautifulSoup(resp.content)"
   ]
  },
  {
   "cell_type": "code",
   "execution_count": 125,
   "metadata": {},
   "outputs": [
    {
     "data": {
      "text/plain": [
       "<p>\n",
       "<a href=\"/login\">Login</a>\n",
       "</p>"
      ]
     },
     "execution_count": 125,
     "metadata": {},
     "output_type": "execute_result"
    }
   ],
   "source": [
    "soup.find()"
   ]
  },
  {
   "cell_type": "code",
   "execution_count": 126,
   "metadata": {},
   "outputs": [
    {
     "data": {
      "text/plain": [
       "{'href': '/', 'style': 'text-decoration: none'}"
      ]
     },
     "execution_count": 126,
     "metadata": {},
     "output_type": "execute_result"
    }
   ],
   "source": [
    "soup.a.attrs"
   ]
  },
  {
   "cell_type": "code",
   "execution_count": null,
   "metadata": {},
   "outputs": [],
   "source": []
  },
  {
   "cell_type": "code",
   "execution_count": 134,
   "metadata": {},
   "outputs": [],
   "source": [
    "df = pd.read_json('./dataup/world_countries.json')['features']"
   ]
  },
  {
   "cell_type": "code",
   "execution_count": 146,
   "metadata": {},
   "outputs": [],
   "source": [
    "# df[0]"
   ]
  },
  {
   "cell_type": "code",
   "execution_count": null,
   "metadata": {},
   "outputs": [],
   "source": [
    "\n",
    "import plotly.express as px\n",
    "\n",
    "fig = px.choropleth_mapbox(df, geojson=df, locations='fips', color='unemp',\\\n",
    "    color_continuous_scale=\"Viridis\",\n",
    "    range_color=(0, 12),\n",
    "    mapbox_style=\"carto-positron\",\n",
    "    zoom=3, \n",
    "    center = {\"lat\": 37.0902, \"lon\": -95.7129},\n",
    "    opacity=0.5,\n",
    "    labels={'unemp':'unemployment rate'}\n",
    "    )\n",
    "fig.update_layout(margin={\"r\":0,\"t\":0,\"l\":0,\"b\":0})\n",
    "fig.show()"
   ]
  },
  {
   "cell_type": "code",
   "execution_count": 157,
   "metadata": {},
   "outputs": [],
   "source": [
    "# import plotly.graph_objects as go\n",
    "\n",
    "# fig = go.Figure(go.Scattermapbox(\n",
    "#     mode = \"markers+lines\",\n",
    "#     lon = [10, 20, 30],\n",
    "#     lat = [10, 20,30],\n",
    "#     marker = {'size': 10}))\n",
    "\n",
    "# fig.add_trace(go.Scattermapbox(\n",
    "#     mode = \"markers+lines\",\n",
    "#     lon = [-50, -60,40],\n",
    "#     lat = [30, 10, -20],\n",
    "#     marker = {'size': 10}))\n",
    "\n",
    "# fig.update_layout(\n",
    "#     margin ={'l':0,'t':0,'b':0,'r':0},\n",
    "#     mapbox = {\n",
    "#         'style': \"carto-positron\",# \"stamen-terrain\",\n",
    "#         'center': {'lon': -20, 'lat': -20},\n",
    "#         'zoom': 2})\n",
    "\n",
    "# # fig.show()"
   ]
  }
 ],
 "metadata": {
  "kernelspec": {
   "display_name": "Python 3.8.8 ('siming')",
   "language": "python",
   "name": "python3"
  },
  "language_info": {
   "codemirror_mode": {
    "name": "ipython",
    "version": 3
   },
   "file_extension": ".py",
   "mimetype": "text/x-python",
   "name": "python",
   "nbconvert_exporter": "python",
   "pygments_lexer": "ipython3",
   "version": "3.8.8"
  },
  "orig_nbformat": 4,
  "vscode": {
   "interpreter": {
    "hash": "2537094cdaaf8cbca77398104c426db43a9f1c17b808f90867ef58a7e69b756d"
   }
  }
 },
 "nbformat": 4,
 "nbformat_minor": 2
}
