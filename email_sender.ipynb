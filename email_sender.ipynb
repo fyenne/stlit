{
 "cells": [
  {
   "cell_type": "code",
   "execution_count": 1,
   "metadata": {},
   "outputs": [],
   "source": [
    "from datetime import datetime\n",
    "import re\n",
    "import smtplib\n",
    "from email.mime.multipart import MIMEMultipart \n",
    "\n",
    "\n",
    "def sendEmailwithFile(account, server,receivers):\n",
    "    \"\"\"\n",
    "    对每一行pd df_row 的循环. \n",
    "    \"\"\"\n",
    "    text = '''<p style=\"font-family:等线;font-size:10.5pt\">Dear \n",
    "        <mark><b></b></mark> \n",
    "                '''\n",
    "\n",
    "    subject = 'RE地产信息采集' \n",
    "    \n",
    "    msg = MIMEMultipart()\n",
    "    msg['Subject'] = subject\n",
    "    msg['From'] = account\n",
    "    receivers = receivers\n",
    "    msg['TO'] = receivers\n",
    "    msg['Cc'] = ''\n",
    "    text = msg.as_string()\n",
    "    server.sendmail(account, receivers, text)\n",
    "    # print('success')\n",
    "    # server.quit()\n",
    "    # time.sleep(2)\n",
    "    \n",
    "    \n",
    "    \n",
    "server = smtplib.SMTP(\"smtp.163.com\", 220)\n",
    "server.starttls()\n",
    "server.login('fyenneyenn@163.com', 'NOmoreuse7-') # \"zwfbctzjcynjymdh\" #\"17740821016@DI\"\n",
    "sendEmailwithFile('fyenneyenn@163.com', server = server, receivers='fyenne@hotmail.com')\n",
    "server.quit()\n",
    "\n"
   ]
  }
 ],
 "metadata": {
  "kernelspec": {
   "display_name": "Python 3.8.8 ('siming')",
   "language": "python",
   "name": "python3"
  },
  "language_info": {
   "codemirror_mode": {
    "name": "ipython",
    "version": 3
   },
   "file_extension": ".py",
   "mimetype": "text/x-python",
   "name": "python",
   "nbconvert_exporter": "python",
   "pygments_lexer": "ipython3",
   "version": "3.8.8"
  },
  "orig_nbformat": 4,
  "vscode": {
   "interpreter": {
    "hash": "2537094cdaaf8cbca77398104c426db43a9f1c17b808f90867ef58a7e69b756d"
   }
  }
 },
 "nbformat": 4,
 "nbformat_minor": 2
}
